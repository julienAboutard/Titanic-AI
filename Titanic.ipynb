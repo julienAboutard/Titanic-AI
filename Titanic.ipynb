{
 "cells": [
  {
   "cell_type": "code",
   "execution_count": null,
   "metadata": {},
   "outputs": [],
   "source": []
  }
 ],
 "metadata": {
  "kernelspec": {
   "display_name": "Python 3.10.7 64-bit ('3.10.7')",
   "language": "python",
   "name": "python3"
  },
  "language_info": {
   "name": "python",
   "version": "3.10.7"
  },
  "orig_nbformat": 4,
  "vscode": {
   "interpreter": {
    "hash": "b019c496c4c6bf89c35b848e26adb5e6bc8398c9f523adb2d2748f9f40a586ca"
   }
  }
 },
 "nbformat": 4,
 "nbformat_minor": 2
}
