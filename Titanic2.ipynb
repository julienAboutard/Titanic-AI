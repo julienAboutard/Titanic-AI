{
 "cells": [
  {
   "cell_type": "markdown",
   "metadata": {},
   "source": [
    "# Notebook amélioration du dataframe et optimisation du modèle de machine learning"
   ]
  },
  {
   "cell_type": "markdown",
   "metadata": {},
   "source": [
    "Dans ce notebook, on effectuera une automatisation des recherches des valeurs optimales pour plusieurs hyperparamètres grâce au modèle de sélection GridSearch.  \n",
    "Par la suite, on optimisera l'encoding et la construction des modèles de classification et on cherchera celui le plus optimisé pour notre jeu de données."
   ]
  },
  {
   "cell_type": "code",
   "execution_count": 28,
   "metadata": {},
   "outputs": [],
   "source": [
    "import pandas as pd\n",
    "import numpy as np\n",
    "import seaborn as sns\n",
    "import matplotlib.pyplot as plt\n",
    "\n",
    "from sklearn import tree\n",
    "from sklearn.neighbors import KNeighborsClassifier, NeighborhoodComponentsAnalysis\n",
    "from sklearn.svm import SVC\n",
    "from sklearn.svm import SVR\n",
    "from sklearn.preprocessing import StandardScaler, OneHotEncoder, MinMaxScaler\n",
    "from sklearn.metrics import accuracy_score, classification_report, confusion_matrix, f1_score\n",
    "from sklearn.model_selection import train_test_split, learning_curve, cross_val_score, GridSearchCV\n",
    "from sklearn.compose import ColumnTransformer\n",
    "from sklearn.pipeline import Pipeline\n",
    "from sklearn.linear_model import LogisticRegression\n",
    "from sklearn.tree import DecisionTreeClassifier\n",
    "from sklearn.ensemble import RandomForestClassifier\n"
   ]
  },
  {
   "cell_type": "code",
   "execution_count": 29,
   "metadata": {},
   "outputs": [
    {
     "data": {
      "text/html": [
       "<div>\n",
       "<style scoped>\n",
       "    .dataframe tbody tr th:only-of-type {\n",
       "        vertical-align: middle;\n",
       "    }\n",
       "\n",
       "    .dataframe tbody tr th {\n",
       "        vertical-align: top;\n",
       "    }\n",
       "\n",
       "    .dataframe thead th {\n",
       "        text-align: right;\n",
       "    }\n",
       "</style>\n",
       "<table border=\"1\" class=\"dataframe\">\n",
       "  <thead>\n",
       "    <tr style=\"text-align: right;\">\n",
       "      <th></th>\n",
       "      <th>PassengerId</th>\n",
       "      <th>Survived</th>\n",
       "      <th>Pclass</th>\n",
       "      <th>Name</th>\n",
       "      <th>Sex</th>\n",
       "      <th>Age</th>\n",
       "      <th>SibSp</th>\n",
       "      <th>Parch</th>\n",
       "      <th>Ticket</th>\n",
       "      <th>Fare</th>\n",
       "      <th>Cabin</th>\n",
       "      <th>Embarked</th>\n",
       "    </tr>\n",
       "  </thead>\n",
       "  <tbody>\n",
       "    <tr>\n",
       "      <th>0</th>\n",
       "      <td>1</td>\n",
       "      <td>0</td>\n",
       "      <td>3</td>\n",
       "      <td>Braund, Mr. Owen Harris</td>\n",
       "      <td>male</td>\n",
       "      <td>22.0</td>\n",
       "      <td>1</td>\n",
       "      <td>0</td>\n",
       "      <td>A/5 21171</td>\n",
       "      <td>7.2500</td>\n",
       "      <td>NaN</td>\n",
       "      <td>S</td>\n",
       "    </tr>\n",
       "    <tr>\n",
       "      <th>1</th>\n",
       "      <td>2</td>\n",
       "      <td>1</td>\n",
       "      <td>1</td>\n",
       "      <td>Cumings, Mrs. John Bradley (Florence Briggs Th...</td>\n",
       "      <td>female</td>\n",
       "      <td>38.0</td>\n",
       "      <td>1</td>\n",
       "      <td>0</td>\n",
       "      <td>PC 17599</td>\n",
       "      <td>71.2833</td>\n",
       "      <td>C85</td>\n",
       "      <td>C</td>\n",
       "    </tr>\n",
       "    <tr>\n",
       "      <th>2</th>\n",
       "      <td>3</td>\n",
       "      <td>1</td>\n",
       "      <td>3</td>\n",
       "      <td>Heikkinen, Miss. Laina</td>\n",
       "      <td>female</td>\n",
       "      <td>26.0</td>\n",
       "      <td>0</td>\n",
       "      <td>0</td>\n",
       "      <td>STON/O2. 3101282</td>\n",
       "      <td>7.9250</td>\n",
       "      <td>NaN</td>\n",
       "      <td>S</td>\n",
       "    </tr>\n",
       "    <tr>\n",
       "      <th>3</th>\n",
       "      <td>4</td>\n",
       "      <td>1</td>\n",
       "      <td>1</td>\n",
       "      <td>Futrelle, Mrs. Jacques Heath (Lily May Peel)</td>\n",
       "      <td>female</td>\n",
       "      <td>35.0</td>\n",
       "      <td>1</td>\n",
       "      <td>0</td>\n",
       "      <td>113803</td>\n",
       "      <td>53.1000</td>\n",
       "      <td>C123</td>\n",
       "      <td>S</td>\n",
       "    </tr>\n",
       "    <tr>\n",
       "      <th>4</th>\n",
       "      <td>5</td>\n",
       "      <td>0</td>\n",
       "      <td>3</td>\n",
       "      <td>Allen, Mr. William Henry</td>\n",
       "      <td>male</td>\n",
       "      <td>35.0</td>\n",
       "      <td>0</td>\n",
       "      <td>0</td>\n",
       "      <td>373450</td>\n",
       "      <td>8.0500</td>\n",
       "      <td>NaN</td>\n",
       "      <td>S</td>\n",
       "    </tr>\n",
       "  </tbody>\n",
       "</table>\n",
       "</div>"
      ],
      "text/plain": [
       "   PassengerId  Survived  Pclass  \\\n",
       "0            1         0       3   \n",
       "1            2         1       1   \n",
       "2            3         1       3   \n",
       "3            4         1       1   \n",
       "4            5         0       3   \n",
       "\n",
       "                                                Name     Sex   Age  SibSp  \\\n",
       "0                            Braund, Mr. Owen Harris    male  22.0      1   \n",
       "1  Cumings, Mrs. John Bradley (Florence Briggs Th...  female  38.0      1   \n",
       "2                             Heikkinen, Miss. Laina  female  26.0      0   \n",
       "3       Futrelle, Mrs. Jacques Heath (Lily May Peel)  female  35.0      1   \n",
       "4                           Allen, Mr. William Henry    male  35.0      0   \n",
       "\n",
       "   Parch            Ticket     Fare Cabin Embarked  \n",
       "0      0         A/5 21171   7.2500   NaN        S  \n",
       "1      0          PC 17599  71.2833   C85        C  \n",
       "2      0  STON/O2. 3101282   7.9250   NaN        S  \n",
       "3      0            113803  53.1000  C123        S  \n",
       "4      0            373450   8.0500   NaN        S  "
      ]
     },
     "execution_count": 29,
     "metadata": {},
     "output_type": "execute_result"
    }
   ],
   "source": [
    "titanic_df_temp= pd.read_csv('data/train.csv')\n",
    "titanic_df_temp.head()"
   ]
  },
  {
   "cell_type": "code",
   "execution_count": 30,
   "metadata": {},
   "outputs": [
    {
     "data": {
      "text/html": [
       "<div>\n",
       "<style scoped>\n",
       "    .dataframe tbody tr th:only-of-type {\n",
       "        vertical-align: middle;\n",
       "    }\n",
       "\n",
       "    .dataframe tbody tr th {\n",
       "        vertical-align: top;\n",
       "    }\n",
       "\n",
       "    .dataframe thead th {\n",
       "        text-align: right;\n",
       "    }\n",
       "</style>\n",
       "<table border=\"1\" class=\"dataframe\">\n",
       "  <thead>\n",
       "    <tr style=\"text-align: right;\">\n",
       "      <th></th>\n",
       "      <th>Survived</th>\n",
       "      <th>Pclass</th>\n",
       "      <th>Name</th>\n",
       "      <th>Sex</th>\n",
       "      <th>Age</th>\n",
       "      <th>SibSp</th>\n",
       "      <th>Parch</th>\n",
       "      <th>Ticket</th>\n",
       "      <th>Fare</th>\n",
       "      <th>Cabin</th>\n",
       "      <th>Embarked</th>\n",
       "    </tr>\n",
       "    <tr>\n",
       "      <th>PassengerId</th>\n",
       "      <th></th>\n",
       "      <th></th>\n",
       "      <th></th>\n",
       "      <th></th>\n",
       "      <th></th>\n",
       "      <th></th>\n",
       "      <th></th>\n",
       "      <th></th>\n",
       "      <th></th>\n",
       "      <th></th>\n",
       "      <th></th>\n",
       "    </tr>\n",
       "  </thead>\n",
       "  <tbody>\n",
       "    <tr>\n",
       "      <th>1</th>\n",
       "      <td>0</td>\n",
       "      <td>3</td>\n",
       "      <td>Braund, Mr. Owen Harris</td>\n",
       "      <td>male</td>\n",
       "      <td>22.0</td>\n",
       "      <td>1</td>\n",
       "      <td>0</td>\n",
       "      <td>A/5 21171</td>\n",
       "      <td>7.2500</td>\n",
       "      <td>NaN</td>\n",
       "      <td>S</td>\n",
       "    </tr>\n",
       "    <tr>\n",
       "      <th>2</th>\n",
       "      <td>1</td>\n",
       "      <td>1</td>\n",
       "      <td>Cumings, Mrs. John Bradley (Florence Briggs Th...</td>\n",
       "      <td>female</td>\n",
       "      <td>38.0</td>\n",
       "      <td>1</td>\n",
       "      <td>0</td>\n",
       "      <td>PC 17599</td>\n",
       "      <td>71.2833</td>\n",
       "      <td>C85</td>\n",
       "      <td>C</td>\n",
       "    </tr>\n",
       "    <tr>\n",
       "      <th>3</th>\n",
       "      <td>1</td>\n",
       "      <td>3</td>\n",
       "      <td>Heikkinen, Miss. Laina</td>\n",
       "      <td>female</td>\n",
       "      <td>26.0</td>\n",
       "      <td>0</td>\n",
       "      <td>0</td>\n",
       "      <td>STON/O2. 3101282</td>\n",
       "      <td>7.9250</td>\n",
       "      <td>NaN</td>\n",
       "      <td>S</td>\n",
       "    </tr>\n",
       "    <tr>\n",
       "      <th>4</th>\n",
       "      <td>1</td>\n",
       "      <td>1</td>\n",
       "      <td>Futrelle, Mrs. Jacques Heath (Lily May Peel)</td>\n",
       "      <td>female</td>\n",
       "      <td>35.0</td>\n",
       "      <td>1</td>\n",
       "      <td>0</td>\n",
       "      <td>113803</td>\n",
       "      <td>53.1000</td>\n",
       "      <td>C123</td>\n",
       "      <td>S</td>\n",
       "    </tr>\n",
       "    <tr>\n",
       "      <th>5</th>\n",
       "      <td>0</td>\n",
       "      <td>3</td>\n",
       "      <td>Allen, Mr. William Henry</td>\n",
       "      <td>male</td>\n",
       "      <td>35.0</td>\n",
       "      <td>0</td>\n",
       "      <td>0</td>\n",
       "      <td>373450</td>\n",
       "      <td>8.0500</td>\n",
       "      <td>NaN</td>\n",
       "      <td>S</td>\n",
       "    </tr>\n",
       "  </tbody>\n",
       "</table>\n",
       "</div>"
      ],
      "text/plain": [
       "             Survived  Pclass  \\\n",
       "PassengerId                     \n",
       "1                   0       3   \n",
       "2                   1       1   \n",
       "3                   1       3   \n",
       "4                   1       1   \n",
       "5                   0       3   \n",
       "\n",
       "                                                          Name     Sex   Age  \\\n",
       "PassengerId                                                                    \n",
       "1                                      Braund, Mr. Owen Harris    male  22.0   \n",
       "2            Cumings, Mrs. John Bradley (Florence Briggs Th...  female  38.0   \n",
       "3                                       Heikkinen, Miss. Laina  female  26.0   \n",
       "4                 Futrelle, Mrs. Jacques Heath (Lily May Peel)  female  35.0   \n",
       "5                                     Allen, Mr. William Henry    male  35.0   \n",
       "\n",
       "             SibSp  Parch            Ticket     Fare Cabin Embarked  \n",
       "PassengerId                                                          \n",
       "1                1      0         A/5 21171   7.2500   NaN        S  \n",
       "2                1      0          PC 17599  71.2833   C85        C  \n",
       "3                0      0  STON/O2. 3101282   7.9250   NaN        S  \n",
       "4                1      0            113803  53.1000  C123        S  \n",
       "5                0      0            373450   8.0500   NaN        S  "
      ]
     },
     "execution_count": 30,
     "metadata": {},
     "output_type": "execute_result"
    }
   ],
   "source": [
    "titanic_df=titanic_df_temp.set_index('PassengerId').copy()\n",
    "titanic_df.head()"
   ]
  },
  {
   "cell_type": "code",
   "execution_count": 31,
   "metadata": {},
   "outputs": [],
   "source": [
    "def embarked_transfo(ligne) :\n",
    "    if ligne['Embarked']=='C' :\n",
    "        return 1\n",
    "    elif ligne['Embarked']=='S' :\n",
    "        return 2\n",
    "    elif ligne['Embarked']=='Q' :\n",
    "        return 3\n",
    "    else :\n",
    "        return None\n",
    "\n",
    "def sex_transfo(ligne) :\n",
    "    if ligne['Sex']=='male' :\n",
    "        return 1\n",
    "    elif ligne['Sex']=='female' :\n",
    "        return 2\n",
    "    else :\n",
    "        return None\n",
    "\n",
    "def age_transfo(ligne) :\n",
    "    if ligne['Age'] >= 18 :\n",
    "        return 1\n",
    "    elif ligne['Age'] < 18 :\n",
    "        return 0\n",
    "    else :\n",
    "        return None"
   ]
  },
  {
   "cell_type": "code",
   "execution_count": 32,
   "metadata": {},
   "outputs": [
    {
     "data": {
      "text/html": [
       "<div>\n",
       "<style scoped>\n",
       "    .dataframe tbody tr th:only-of-type {\n",
       "        vertical-align: middle;\n",
       "    }\n",
       "\n",
       "    .dataframe tbody tr th {\n",
       "        vertical-align: top;\n",
       "    }\n",
       "\n",
       "    .dataframe thead th {\n",
       "        text-align: right;\n",
       "    }\n",
       "</style>\n",
       "<table border=\"1\" class=\"dataframe\">\n",
       "  <thead>\n",
       "    <tr style=\"text-align: right;\">\n",
       "      <th></th>\n",
       "      <th>Survived</th>\n",
       "      <th>Pclass</th>\n",
       "      <th>Age</th>\n",
       "      <th>SibSp</th>\n",
       "      <th>Parch</th>\n",
       "      <th>Fare</th>\n",
       "      <th>Num_Embarked</th>\n",
       "      <th>Num_sex</th>\n",
       "      <th>Label_mineur_majeur</th>\n",
       "    </tr>\n",
       "  </thead>\n",
       "  <tbody>\n",
       "    <tr>\n",
       "      <th>0</th>\n",
       "      <td>0</td>\n",
       "      <td>3</td>\n",
       "      <td>22.0</td>\n",
       "      <td>1</td>\n",
       "      <td>0</td>\n",
       "      <td>7.2500</td>\n",
       "      <td>2.0</td>\n",
       "      <td>1</td>\n",
       "      <td>1.0</td>\n",
       "    </tr>\n",
       "    <tr>\n",
       "      <th>1</th>\n",
       "      <td>1</td>\n",
       "      <td>1</td>\n",
       "      <td>38.0</td>\n",
       "      <td>1</td>\n",
       "      <td>0</td>\n",
       "      <td>71.2833</td>\n",
       "      <td>1.0</td>\n",
       "      <td>2</td>\n",
       "      <td>1.0</td>\n",
       "    </tr>\n",
       "    <tr>\n",
       "      <th>2</th>\n",
       "      <td>1</td>\n",
       "      <td>3</td>\n",
       "      <td>26.0</td>\n",
       "      <td>0</td>\n",
       "      <td>0</td>\n",
       "      <td>7.9250</td>\n",
       "      <td>2.0</td>\n",
       "      <td>2</td>\n",
       "      <td>1.0</td>\n",
       "    </tr>\n",
       "    <tr>\n",
       "      <th>3</th>\n",
       "      <td>1</td>\n",
       "      <td>1</td>\n",
       "      <td>35.0</td>\n",
       "      <td>1</td>\n",
       "      <td>0</td>\n",
       "      <td>53.1000</td>\n",
       "      <td>2.0</td>\n",
       "      <td>2</td>\n",
       "      <td>1.0</td>\n",
       "    </tr>\n",
       "    <tr>\n",
       "      <th>4</th>\n",
       "      <td>0</td>\n",
       "      <td>3</td>\n",
       "      <td>35.0</td>\n",
       "      <td>0</td>\n",
       "      <td>0</td>\n",
       "      <td>8.0500</td>\n",
       "      <td>2.0</td>\n",
       "      <td>1</td>\n",
       "      <td>1.0</td>\n",
       "    </tr>\n",
       "    <tr>\n",
       "      <th>...</th>\n",
       "      <td>...</td>\n",
       "      <td>...</td>\n",
       "      <td>...</td>\n",
       "      <td>...</td>\n",
       "      <td>...</td>\n",
       "      <td>...</td>\n",
       "      <td>...</td>\n",
       "      <td>...</td>\n",
       "      <td>...</td>\n",
       "    </tr>\n",
       "    <tr>\n",
       "      <th>707</th>\n",
       "      <td>0</td>\n",
       "      <td>3</td>\n",
       "      <td>39.0</td>\n",
       "      <td>0</td>\n",
       "      <td>5</td>\n",
       "      <td>29.1250</td>\n",
       "      <td>3.0</td>\n",
       "      <td>2</td>\n",
       "      <td>1.0</td>\n",
       "    </tr>\n",
       "    <tr>\n",
       "      <th>708</th>\n",
       "      <td>0</td>\n",
       "      <td>2</td>\n",
       "      <td>27.0</td>\n",
       "      <td>0</td>\n",
       "      <td>0</td>\n",
       "      <td>13.0000</td>\n",
       "      <td>2.0</td>\n",
       "      <td>1</td>\n",
       "      <td>1.0</td>\n",
       "    </tr>\n",
       "    <tr>\n",
       "      <th>709</th>\n",
       "      <td>1</td>\n",
       "      <td>1</td>\n",
       "      <td>19.0</td>\n",
       "      <td>0</td>\n",
       "      <td>0</td>\n",
       "      <td>30.0000</td>\n",
       "      <td>2.0</td>\n",
       "      <td>2</td>\n",
       "      <td>1.0</td>\n",
       "    </tr>\n",
       "    <tr>\n",
       "      <th>710</th>\n",
       "      <td>1</td>\n",
       "      <td>1</td>\n",
       "      <td>26.0</td>\n",
       "      <td>0</td>\n",
       "      <td>0</td>\n",
       "      <td>30.0000</td>\n",
       "      <td>1.0</td>\n",
       "      <td>1</td>\n",
       "      <td>1.0</td>\n",
       "    </tr>\n",
       "    <tr>\n",
       "      <th>711</th>\n",
       "      <td>0</td>\n",
       "      <td>3</td>\n",
       "      <td>32.0</td>\n",
       "      <td>0</td>\n",
       "      <td>0</td>\n",
       "      <td>7.7500</td>\n",
       "      <td>3.0</td>\n",
       "      <td>1</td>\n",
       "      <td>1.0</td>\n",
       "    </tr>\n",
       "  </tbody>\n",
       "</table>\n",
       "<p>712 rows × 9 columns</p>\n",
       "</div>"
      ],
      "text/plain": [
       "     Survived  Pclass   Age  SibSp  Parch     Fare  Num_Embarked  Num_sex  \\\n",
       "0           0       3  22.0      1      0   7.2500           2.0        1   \n",
       "1           1       1  38.0      1      0  71.2833           1.0        2   \n",
       "2           1       3  26.0      0      0   7.9250           2.0        2   \n",
       "3           1       1  35.0      1      0  53.1000           2.0        2   \n",
       "4           0       3  35.0      0      0   8.0500           2.0        1   \n",
       "..        ...     ...   ...    ...    ...      ...           ...      ...   \n",
       "707         0       3  39.0      0      5  29.1250           3.0        2   \n",
       "708         0       2  27.0      0      0  13.0000           2.0        1   \n",
       "709         1       1  19.0      0      0  30.0000           2.0        2   \n",
       "710         1       1  26.0      0      0  30.0000           1.0        1   \n",
       "711         0       3  32.0      0      0   7.7500           3.0        1   \n",
       "\n",
       "     Label_mineur_majeur  \n",
       "0                    1.0  \n",
       "1                    1.0  \n",
       "2                    1.0  \n",
       "3                    1.0  \n",
       "4                    1.0  \n",
       "..                   ...  \n",
       "707                  1.0  \n",
       "708                  1.0  \n",
       "709                  1.0  \n",
       "710                  1.0  \n",
       "711                  1.0  \n",
       "\n",
       "[712 rows x 9 columns]"
      ]
     },
     "execution_count": 32,
     "metadata": {},
     "output_type": "execute_result"
    }
   ],
   "source": [
    "titanic_df_graph=titanic_df.drop(['Name'], axis='columns').copy()\n",
    "\n",
    "#Transformation du port d'embarquement en valeur numérique C=>1, S=>2, Q=>3\n",
    "titanic_df_graph['Num_Embarked']=titanic_df_graph.apply(embarked_transfo, axis=1)\n",
    "\n",
    "#Transformation du sexe en valeur numérique male=>1, female=>2\n",
    "titanic_df_graph['Num_sex']=titanic_df_graph.apply(sex_transfo, axis=1)\n",
    "\n",
    "#Transformation de l'age en label mineur/majeur : 18 et + =>1, moins de 18 =>0\n",
    "titanic_df_graph['Label_mineur_majeur']= titanic_df_graph.apply(age_transfo, axis=1)\n",
    "\n",
    "#Drop des colonnes \"Cabin\" et \"Ticket\" car peu ou non exploitable\n",
    "titanic_df_graph.drop(['Cabin'], axis='columns', inplace=True)\n",
    "titanic_df_graph.drop(['Ticket'], axis='columns', inplace=True)\n",
    "\n",
    "#On se sépare des lignes ayant des valeurs vides\n",
    "titanic_df_graph.dropna(inplace=True)\n",
    "\n",
    "#Puis on drop les colonnes que l'on a transformé\n",
    "titanic_df_graph.drop(['Embarked', 'Sex'], axis='columns', inplace=True)\n",
    "\n",
    "titanic_df_graph.reset_index(drop=True, inplace=True)\n",
    "titanic_df_graph"
   ]
  },
  {
   "cell_type": "code",
   "execution_count": 33,
   "metadata": {},
   "outputs": [],
   "source": [
    "#titanic_df_clean=titanic_df_graph.drop(['SibSp', 'Parch'], axis='columns').copy()\n",
    "titanic_df_clean=titanic_df_graph.copy()"
   ]
  },
  {
   "cell_type": "code",
   "execution_count": 34,
   "metadata": {},
   "outputs": [],
   "source": [
    "# On sépare les features du target :\n",
    "features, target = titanic_df_clean.loc[:, 'Pclass':'Label_mineur_majeur'], titanic_df_clean[\"Survived\"]\n",
    "\n",
    "# On split notre dataframe en 2 :\n",
    "feat_train, feat_test, target_train, target_test = train_test_split(features, target, test_size = 0.4)\n",
    "\n",
    "# On standardise :  \n",
    "scaler = StandardScaler()\n",
    "feat_train = scaler.fit_transform(feat_train)\n",
    "feat_test = scaler.transform(feat_test)"
   ]
  },
  {
   "cell_type": "code",
   "execution_count": 35,
   "metadata": {},
   "outputs": [
    {
     "name": "stdout",
     "output_type": "stream",
     "text": [
      "0.8\n",
      "              precision    recall  f1-score   support\n",
      "\n",
      "           0       0.82      0.84      0.83       166\n",
      "           1       0.77      0.74      0.76       119\n",
      "\n",
      "    accuracy                           0.80       285\n",
      "   macro avg       0.80      0.79      0.79       285\n",
      "weighted avg       0.80      0.80      0.80       285\n",
      "\n"
     ]
    },
    {
     "data": {
      "image/png": "[encoded data removed]",
      "text/plain": [
       "<Figure size 640x480 with 2 Axes>"
      ]
     },
     "metadata": {},
     "output_type": "display_data"
    }
   ],
   "source": [
    "# Nearest Neighboors Classifier model\n",
    "\n",
    "# On initalise le modèle : \n",
    "neighbors_classif = KNeighborsClassifier()\n",
    "\n",
    "# On l'entraîne sur nos données d'entraînement :\n",
    "neighbors_classif.fit(feat_train, target_train)\n",
    "\n",
    "# On l'utilise pour prédire sur les données de test :\n",
    "predict_class = neighbors_classif.predict(feat_test)\n",
    "\n",
    "# On calcule l'accuracy du modèle :  \n",
    "acc = accuracy_score(predict_class, target_test)\n",
    "print(acc)\n",
    "\n",
    "# On ajoute des noms aux index et aux colonnes à la matrice de confusion\n",
    "classes_names = ['Survived','No survived']\n",
    "cm = pd.DataFrame(confusion_matrix(target_test, predict_class), \n",
    "                  columns=classes_names, index = classes_names)\n",
    "\n",
    "# On affiche une heatmap de seaborn pour visualiser la matrice de confusion\n",
    "sns.heatmap(cm, annot=True, fmt='d')\n",
    "\n",
    "print(classification_report(target_test, predict_class))"
   ]
  },
  {
   "cell_type": "code",
   "execution_count": 52,
   "metadata": {},
   "outputs": [
    {
     "data": {
      "image/png": "[encoded data removed]",
      "text/plain": [
       "<Figure size 1000x800 with 1 Axes>"
      ]
     },
     "metadata": {},
     "output_type": "display_data"
    }
   ],
   "source": [
    "# Learning Curve\n",
    "\n",
    "train_sizes, train_scores, test_scores = learning_curve(\n",
    "    estimator=neighbors_classif,\n",
    "    X=feat_train,\n",
    "    y=target_train,\n",
    "    cv=5,\n",
    "    scoring=\"accuracy\"\n",
    ")\n",
    "\n",
    "train_mean = train_scores.mean(axis=1)\n",
    "test_mean = test_scores.mean(axis=1)\n",
    "\n",
    "plt.subplots(figsize=(10,8))\n",
    "plt.plot(train_sizes, train_mean, label=\"train\")\n",
    "plt.plot(train_sizes, test_mean, label=\"validation\")\n",
    "\n",
    "plt.title(\"Learning Curve Knn\")\n",
    "plt.xlabel(\"Training Set Size\")\n",
    "plt.ylabel(\"Accuracy\")\n",
    "plt.legend(loc=\"best\")\n",
    "\n",
    "plt.show()"
   ]
  },
  {
   "cell_type": "markdown",
   "metadata": {},
   "source": [
    "## GridSearch"
   ]
  },
  {
   "cell_type": "markdown",
   "metadata": {},
   "source": [
    "On récupère le travail des données du premier notebook et on va utiliser le modèle de sélection GridSearch qui permet de faire la courbe de validation pour un ou plusieurs hyperparamètres et récupérer les valeurs optimales."
   ]
  },
  {
   "cell_type": "code",
   "execution_count": 37,
   "metadata": {},
   "outputs": [],
   "source": [
    "# On va effectuer un GridSearch sur un Knn classifieur en recherchant la valeur optimale pour le nombre de voisin et \n",
    "# le leaf size\n",
    "\n",
    "k_range = list(range(1, 50))\n",
    "param_grid = dict(n_neighbors=k_range, leaf_size=k_range)"
   ]
  },
  {
   "cell_type": "code",
   "execution_count": 38,
   "metadata": {},
   "outputs": [
    {
     "name": "stdout",
     "output_type": "stream",
     "text": [
      "Fitting 5 folds for each of 2401 candidates, totalling 12005 fits\n"
     ]
    }
   ],
   "source": [
    "# defining parameter range\n",
    "grid = GridSearchCV(KNeighborsClassifier(), param_grid, cv=5, scoring='accuracy', verbose=1)\n",
    "  \n",
    "# fitting the model for grid search\n",
    "grid_search=grid.fit(feat_train, target_train)"
   ]
  },
  {
   "cell_type": "code",
   "execution_count": 39,
   "metadata": {},
   "outputs": [
    {
     "data": {
      "text/plain": [
       "(23, 1)"
      ]
     },
     "execution_count": 39,
     "metadata": {},
     "output_type": "execute_result"
    }
   ],
   "source": [
    "# On récupère la valeur optimale pour le nombre de voisins et leaf size\n",
    "\n",
    "kopti =grid_search.best_params_['n_neighbors']\n",
    "leafopti = grid_search.best_params_['leaf_size']\n",
    "kopti, leafopti"
   ]
  },
  {
   "cell_type": "code",
   "execution_count": 56,
   "metadata": {},
   "outputs": [
    {
     "name": "stdout",
     "output_type": "stream",
     "text": [
      "La meilleure accuracy pour les données d'entraînement est : 0.8125581395348836\n",
      "L'accuracy pour les données de test est :0.7929824561403509\n"
     ]
    }
   ],
   "source": [
    "#On calcule l'accuracy pour pour l'échantillon de test \n",
    "print(f\"La meilleure accuracy pour les données d'entraînement est : {grid_search.best_score_}\")\n",
    "print(f\"L'accuracy pour les données de test est :{grid_search.score(feat_test, target_test)}\")"
   ]
  },
  {
   "cell_type": "markdown",
   "metadata": {},
   "source": [
    "Notre accuracy pour les données de test se rapproche de la meilleure valeur de l'accuracy pour les données d'entraînement.  \n",
    "Donc, il n'y a pas de problèmes sur notre modèle ou GridSearch."
   ]
  },
  {
   "cell_type": "markdown",
   "metadata": {},
   "source": [
    "En comparant les deux valeurs que l'on a pour le classifieur Knn (sans et avec optimisation), il ressort que l'accuracy de la prédiction est meilleure quand on optimise le modèle.  \n",
    "Il ne faut pas oublier qu'avec le GridSearch on n'a optimisé que deux de l'ensemble des hyperparamètres du modèle.  \n",
    "On refait une learning curve pour comparer les courbes pour le modèle optimisé et le modèle non-optimisé."
   ]
  },
  {
   "cell_type": "code",
   "execution_count": 54,
   "metadata": {},
   "outputs": [
    {
     "data": {
      "image/png": "[encoded data removed]",
      "text/plain": [
       "<Figure size 1000x800 with 1 Axes>"
      ]
     },
     "metadata": {},
     "output_type": "display_data"
    }
   ],
   "source": [
    "train_sizes, train_scores, test_scores = learning_curve(\n",
    "    estimator=KNeighborsClassifier(n_neighbors=kopti, leaf_size=leafopti),\n",
    "    X=features,\n",
    "    y=target,\n",
    "    cv=5,\n",
    "    scoring=\"accuracy\"\n",
    ")\n",
    "\n",
    "train_mean = train_scores.mean(axis=1)\n",
    "test_mean = test_scores.mean(axis=1)\n",
    "\n",
    "plt.subplots(figsize=(10,8))\n",
    "plt.plot(train_sizes, train_mean, label=\"train\")\n",
    "plt.plot(train_sizes, test_mean, label=\"validation\")\n",
    "\n",
    "plt.title(\"Learning Curve KNN\")\n",
    "plt.xlabel(\"Training Set Size\")\n",
    "plt.ylabel(\"Accuracy\")\n",
    "plt.legend(loc=\"best\")\n",
    "\n",
    "plt.show()"
   ]
  },
  {
   "cell_type": "markdown",
   "metadata": {},
   "source": [
    "On remarque qu'après optimisation notre valeur d'accuracy à diminuer que ça soit pour la courbe d'entraînement classique ou celle avec la méthode de cross-validation.  \n",
    "Cependant, pour le modèle optimisé ces deux courbes sont très proches montrant que l'entraînement du modèle devient efficace."
   ]
  },
  {
   "cell_type": "markdown",
   "metadata": {},
   "source": [
    "## Pipeline"
   ]
  },
  {
   "cell_type": "markdown",
   "metadata": {},
   "source": [
    "Le pipeline permet d'automatiser un ensemble d'étapes que l'on effectue sur le dataframe ou sur le modèle que l'on souhaite utiliser.  \n",
    "Par exemple, le travail de transformer les valeurs textuelles pour la colonne \"Sex\" du dataframe en valeur numérique on va utiliser un encodeur pour le faire."
   ]
  },
  {
   "cell_type": "code",
   "execution_count": 42,
   "metadata": {},
   "outputs": [],
   "source": [
    "# On repars du dataframe initial\n",
    "titanic_df_pipe=titanic_df.dropna()\n",
    "\n",
    "# On sépare les features du target :\n",
    "features2 = titanic_df_pipe.loc[:, ['Pclass','Sex', 'Age', 'Fare', 'Embarked', 'SibSp', 'Parch' ]]\n",
    "target2 = titanic_df_pipe[\"Survived\"]\n",
    "\n",
    "# On split notre dataframe en 2 :\n",
    "feat_train2, feat_test2, target_train2, target_test2 = train_test_split(features2, target2, test_size = 0.4)"
   ]
  },
  {
   "cell_type": "code",
   "execution_count": 43,
   "metadata": {},
   "outputs": [],
   "source": [
    "# On crée pour notre pipeline une étape de préprocesseur \n",
    "\n",
    "# Pour les colonnes ayant des valeurs numériques on va les standardiser avec le StandarScaler\n",
    "# Il est possible, avec le GridSearch, trouver la meilleure fonction de standardisation.\n",
    "num_data=['Age', 'Fare', 'SibSp', 'Parch']\n",
    "num_transformer = StandardScaler()\n",
    "\n",
    "# Pour les colonnes qui ne sont pas remplies de nombre, on utilise OneHotEncoder pour les transformer en valeurs numériques\n",
    "# et pour éviter de  hiérarchiser ces valeurs numériques.\n",
    "cat_data=['Sex', 'Embarked', 'Pclass']\n",
    "cat_transformer=OneHotEncoder(handle_unknown='ignore')\n",
    "\n",
    "# En effectuant le préporcesseur on va garder les colonnes initiales grâce à remainder='passthrough' \n",
    "# mais il est possible de les supprimer et changant le passthrough en drop.\n",
    "preprocessor=ColumnTransformer(\n",
    "    transformers=[\n",
    "        ('num', num_transformer, num_data),\n",
    "        ('cat', cat_transformer, cat_data)\n",
    "    ],\n",
    "    remainder='passthrough'\n",
    ")"
   ]
  },
  {
   "cell_type": "code",
   "execution_count": 44,
   "metadata": {},
   "outputs": [],
   "source": [
    "# Création de pipeline pour plusieurs modèles\n",
    "\n",
    "# Logistic regression\n",
    "pipeline_lr=Pipeline(\n",
    "    steps=[('preprocessor', preprocessor), ('classifier', LogisticRegression())]\n",
    ")\n",
    "\n",
    "# Knn\n",
    "pipeline_knn=Pipeline(\n",
    "    steps=[('preprocessor', preprocessor), ('classifier', KNeighborsClassifier())]\n",
    ")\n",
    "\n",
    "# SVM linear\n",
    "pipeline_svm=Pipeline(\n",
    "    steps=[('preprocessor', preprocessor), ('classifier', SVC())]\n",
    ")\n",
    "\n",
    "#Decision tree\n",
    "pipeline_decit=Pipeline(\n",
    "    steps=[('preprocessor', preprocessor), ('classifier', DecisionTreeClassifier())]\n",
    ")\n",
    "\n",
    "# Random Forest\n",
    "pipeline_randof=Pipeline(\n",
    "    steps=[('preprocessor', preprocessor), ('classifier', RandomForestClassifier())]\n",
    ")"
   ]
  },
  {
   "cell_type": "code",
   "execution_count": 45,
   "metadata": {},
   "outputs": [],
   "source": [
    "pipelines=[pipeline_lr, pipeline_knn, pipeline_svm, pipeline_decit, pipeline_randof]\n",
    "\n",
    "pip_dict={\n",
    "            0: 'Logistic Regression', \n",
    "            1: 'Nearest Neighbors', \n",
    "            2: 'SVM linear', \n",
    "            3: 'Decision tree',\n",
    "            4: 'Random tree'            \n",
    "        }"
   ]
  },
  {
   "cell_type": "code",
   "execution_count": 46,
   "metadata": {},
   "outputs": [],
   "source": [
    "# On effectue le fit pour l'ensemble des pipelines\n",
    "for pipe in pipelines :\n",
    "    pipe.fit(feat_train2, target_train2)"
   ]
  },
  {
   "cell_type": "code",
   "execution_count": 47,
   "metadata": {},
   "outputs": [
    {
     "name": "stdout",
     "output_type": "stream",
     "text": [
      "Logistic Regression Prediction accuracy 0.6891891891891891\n",
      "Nearest Neighbors Prediction accuracy 0.7432432432432432\n",
      "SVM linear Prediction accuracy 0.6891891891891891\n",
      "Decision tree Prediction accuracy 0.7027027027027027\n",
      "Random tree Prediction accuracy 0.7297297297297297\n"
     ]
    }
   ],
   "source": [
    "# On teste l'accuracy pour la prédiction du jeu de données de test \n",
    "# On va chercher le meilleur modèle pour utliser notre jeu de données en récupérant l'accuracy du jeu de test\n",
    "for i,model in enumerate(pipelines) :\n",
    "    print(f'{pip_dict[i]} Prediction accuracy {model.score(feat_test2,target_test2)}')"
   ]
  },
  {
   "cell_type": "markdown",
   "metadata": {},
   "source": [
    "On va effectuer un GridSearch pour chaque pipeline afin de récuper les valeurs optimales pour les hyperparamètres \n",
    "que l'on va tester."
   ]
  },
  {
   "cell_type": "code",
   "execution_count": 48,
   "metadata": {},
   "outputs": [],
   "source": [
    "# Choix des hyperparamètres que l'on va faire varier\n",
    " \n",
    "param_range_C = [0.1, 1, 10, 100, 1000]\n",
    "param_range= [1, 2, 3, 4, 5, 6]\n",
    "param_range_fl = [1.0, 0.5, 0.1]\n",
    "n_estimators = [50,100,150]\n",
    "learning_rates = [.1,.2,.3]\n",
    "\n",
    "param_grid_lr = [{'classifier__penalty': ['l1', 'l2'],\n",
    "                   'classifier__C': param_range_C,\n",
    "                   'classifier__solver': ['liblinear']}]\n",
    "\n",
    "param_grid_knn = [{'classifier__n_neighbors': [1, 7, 18, 30, 45, 59],\n",
    "                   'classifier__weights': ['uniform', 'distance'],\n",
    "                   'classifier__metric': ['euclidean', 'manhattan']}]\n",
    "                   \n",
    "param_grid_svm = [{'classifier__kernel': ['linear', 'rbf'], \n",
    "                    'classifier__C': param_range_C}]\n",
    "\n",
    "param_grid_decit = [{'classifier__criterion': ['gini', 'entropy'],\n",
    "                   'classifier__min_samples_leaf': param_range,\n",
    "                   'classifier__max_depth': param_range,\n",
    "                   'classifier__min_samples_split': param_range[1:]}]\n",
    "\n",
    "param_grid_randof = [{'classifier__min_samples_leaf': param_range,\n",
    "                   'classifier__max_depth': param_range,\n",
    "                   'classifier__min_samples_split': param_range[1:]}]\n"
   ]
  },
  {
   "cell_type": "code",
   "execution_count": 49,
   "metadata": {},
   "outputs": [],
   "source": [
    "# Création des GridSearch avec en estimator le pipeline\n",
    "\n",
    "grid_search_lr = GridSearchCV(estimator=pipeline_lr,\n",
    "        param_grid=param_grid_lr,\n",
    "        scoring='accuracy',\n",
    "        cv=5)\n",
    "grid_search_knn = GridSearchCV(estimator=pipeline_knn,\n",
    "        param_grid=param_grid_knn,\n",
    "        scoring='accuracy',\n",
    "        cv=5)\n",
    "grid_search_svm = GridSearchCV(estimator=pipeline_svm,\n",
    "        param_grid=param_grid_svm,\n",
    "        scoring='accuracy',\n",
    "        cv=5)\n",
    "grid_search_decit = GridSearchCV(estimator=pipeline_decit,\n",
    "        param_grid=param_grid_decit,\n",
    "        scoring='accuracy',\n",
    "        cv=5)\n",
    "grid_search_randof = GridSearchCV(estimator=pipeline_randof,\n",
    "        param_grid=param_grid_randof,\n",
    "        scoring='accuracy',\n",
    "        cv=5)"
   ]
  },
  {
   "cell_type": "code",
   "execution_count": 50,
   "metadata": {},
   "outputs": [],
   "source": [
    "# On lance le fit pour chaque GridSearch\n",
    "grids = [grid_search_lr, grid_search_knn, grid_search_svm, grid_search_decit, grid_search_randof]\n",
    "for pipe in grids:\n",
    "    pipe.fit(feat_train2,target_train2)"
   ]
  },
  {
   "cell_type": "code",
   "execution_count": 58,
   "metadata": {},
   "outputs": [
    {
     "name": "stdout",
     "output_type": "stream",
     "text": [
      "Classifier with best accuracy:Logistic Regression\n",
      "Logistic Regression Best Parameters : {'classifier__C': 0.1, 'classifier__penalty': 'l1', 'classifier__solver': 'liblinear'}\n",
      "Logistic Regression accuracy pour les données de test: 0.7162162162162162\n",
      "Logistic Regression meilleure accuracy pour les données d'entraînement: 0.8255411255411256\n"
     ]
    }
   ],
   "source": [
    "grid_dict = {\n",
    "                0: 'Logistic Regression', \n",
    "                1: 'Nearest Neighbors', \n",
    "                2: 'SVM linear', \n",
    "                3: 'Decision tree',\n",
    "                4: 'Random tree'\n",
    "            }\n",
    "\n",
    "# Pour chaque modèle on affiche les hyperparamètres optimaux et l'accuray pour la prédiction des données de test\n",
    "# for i, model in enumerate(grids):\n",
    "#     print('{} Test Accuracy pour les données de test: {}'.format(grid_dict[i],\n",
    "#     model.score(feat_test,target_test)))\n",
    "#     print('{} Test Accuracy pour les données d'entraînement: {}'.format(grid_dict[i],\n",
    "#     model.best_score_))\n",
    "#     print('{} Best Params: {}'.format(grid_dict[i],\n",
    "#     model.best_params_))\n",
    "\n",
    "best_accuracy=0.0\n",
    "best_param=''\n",
    "best_classifier=''\n",
    "best_score=0\n",
    "\n",
    "# On récupère le meilleur modèle avec ses hyperparamètres optimaux et l'accuracy pour la prédiction des données de test\n",
    "for i,model in enumerate(grids):\n",
    "    if model.score(feat_test2, target_test2)>best_accuracy:\n",
    "        best_accuracy=model.score(feat_test2, target_test2)\n",
    "        best_param=model.best_params_\n",
    "        best_classifier=i\n",
    "        best_score=model.best_score_\n",
    "print('Classifier with best accuracy:{}'.format(grid_dict[best_classifier]))\n",
    "print('{} Best Parameters : {}'.format(grid_dict[best_classifier], best_param))\n",
    "print('{} accuracy pour les données de test: {}'.format(grid_dict[best_classifier], best_accuracy))\n",
    "print(\"{} meilleure accuracy pour les données d'entraînement: {}\".format(grid_dict[best_classifier], best_score))"
   ]
  },
  {
   "cell_type": "markdown",
   "metadata": {},
   "source": [
    "Grâca au GridSearch et aux pipelines, on peut déterminer le meilleur modèle de classification et ses hyperparamètres optimaux.  \n",
    "On peut remarquer que certains modèles sont plutôt proches car lorque l'on relance le split des données et on effectue le gridSearch à nouveau, on peut trouver un modèle différent ou des hyperparamètres optimaux différents montrant ainsi l'utilité d'automatiser la validation curve, l'encode des données et la création du modèle de classification. "
   ]
  }
 ],
 "metadata": {
  "kernelspec": {
   "display_name": "Python 3.10.7 64-bit ('dev_IA1')",
   "language": "python",
   "name": "python3"
  },
  "language_info": {
   "codemirror_mode": {
    "name": "ipython",
    "version": 3
   },
   "file_extension": ".py",
   "mimetype": "text/x-python",
   "name": "python",
   "nbconvert_exporter": "python",
   "pygments_lexer": "ipython3",
   "version": "3.10.7"
  },
  "orig_nbformat": 4,
  "vscode": {
   "interpreter": {
    "hash": "5a0b5c0080bb0d79129aa728c896d15cc0e4d4b9de925754bfcd3a148409f9ed"
   }
  }
 },
 "nbformat": 4,
 "nbformat_minor": 2
}
